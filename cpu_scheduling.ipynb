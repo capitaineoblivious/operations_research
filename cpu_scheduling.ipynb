{
  "nbformat": 4,
  "nbformat_minor": 0,
  "metadata": {
    "colab": {
      "name": "cpu_scheduling.ipynb",
      "provenance": [],
      "collapsed_sections": [],
      "include_colab_link": true
    },
    "kernelspec": {
      "name": "python3",
      "display_name": "Python 3"
    }
  },
  "cells": [
    {
      "cell_type": "markdown",
      "metadata": {
        "id": "view-in-github",
        "colab_type": "text"
      },
      "source": [
        "<a href=\"https://colab.research.google.com/github/ymiftah/operations_research/blob/master/cpu_scheduling.ipynb\" target=\"_parent\"><img src=\"https://colab.research.google.com/assets/colab-badge.svg\" alt=\"Open In Colab\"/></a>"
      ]
    },
    {
      "cell_type": "code",
      "metadata": {
        "id": "qNnG66umvsYP",
        "colab_type": "code",
        "outputId": "183f2c7c-1c3c-4aaf-ed6a-18580657ec64",
        "colab": {
          "base_uri": "https://localhost:8080/",
          "height": 572
        }
      },
      "source": [
        "!pip install -qq pyomo\n",
        "!apt-get install -qq coinor-cbc"
      ],
      "execution_count": 1,
      "outputs": [
        {
          "output_type": "stream",
          "text": [
            "\u001b[K     |████████████████████████████████| 2.3MB 2.8MB/s \n",
            "\u001b[K     |████████████████████████████████| 256kB 46.2MB/s \n",
            "\u001b[K     |████████████████████████████████| 51kB 5.3MB/s \n",
            "\u001b[K     |████████████████████████████████| 163kB 41.2MB/s \n",
            "\u001b[?25hSelecting previously unselected package coinor-libcoinutils3v5.\n",
            "(Reading database ... 132681 files and directories currently installed.)\n",
            "Preparing to unpack .../0-coinor-libcoinutils3v5_2.10.14+repack1-1_amd64.deb ...\n",
            "Unpacking coinor-libcoinutils3v5 (2.10.14+repack1-1) ...\n",
            "Selecting previously unselected package coinor-libosi1v5.\n",
            "Preparing to unpack .../1-coinor-libosi1v5_0.107.9+repack1-1_amd64.deb ...\n",
            "Unpacking coinor-libosi1v5 (0.107.9+repack1-1) ...\n",
            "Selecting previously unselected package coinor-libclp1.\n",
            "Preparing to unpack .../2-coinor-libclp1_1.16.11+repack1-1_amd64.deb ...\n",
            "Unpacking coinor-libclp1 (1.16.11+repack1-1) ...\n",
            "Selecting previously unselected package coinor-libcgl1.\n",
            "Preparing to unpack .../3-coinor-libcgl1_0.59.10+repack1-1_amd64.deb ...\n",
            "Unpacking coinor-libcgl1 (0.59.10+repack1-1) ...\n",
            "Selecting previously unselected package coinor-libcbc3.\n",
            "Preparing to unpack .../4-coinor-libcbc3_2.9.9+repack1-1_amd64.deb ...\n",
            "Unpacking coinor-libcbc3 (2.9.9+repack1-1) ...\n",
            "Selecting previously unselected package coinor-cbc.\n",
            "Preparing to unpack .../5-coinor-cbc_2.9.9+repack1-1_amd64.deb ...\n",
            "Unpacking coinor-cbc (2.9.9+repack1-1) ...\n",
            "Processing triggers for libc-bin (2.27-3ubuntu1) ...\n",
            "Processing triggers for man-db (2.8.3-2ubuntu0.1) ...\n",
            "Setting up coinor-libcoinutils3v5 (2.10.14+repack1-1) ...\n",
            "Setting up coinor-libosi1v5 (0.107.9+repack1-1) ...\n",
            "Setting up coinor-libclp1 (1.16.11+repack1-1) ...\n",
            "Setting up coinor-libcgl1 (0.59.10+repack1-1) ...\n",
            "Setting up coinor-libcbc3 (2.9.9+repack1-1) ...\n",
            "Setting up coinor-cbc (2.9.9+repack1-1) ...\n",
            "Processing triggers for libc-bin (2.27-3ubuntu1) ...\n"
          ],
          "name": "stdout"
        }
      ]
    },
    {
      "cell_type": "code",
      "metadata": {
        "id": "YzrGGJd9LIhT",
        "colab_type": "code",
        "colab": {}
      },
      "source": [
        "import numpy as np\n",
        "import pandas as pd\n",
        "import matplotlib.pyplot as plt\n",
        "from pprint import pprint"
      ],
      "execution_count": 0,
      "outputs": []
    },
    {
      "cell_type": "markdown",
      "metadata": {
        "id": "u66FOAh2AgKk",
        "colab_type": "text"
      },
      "source": [
        "# CPU Scheduling"
      ]
    },
    {
      "cell_type": "markdown",
      "metadata": {
        "id": "HBoiWDsEwTJy",
        "colab_type": "text"
      },
      "source": [
        "## Problem Statement\n",
        "10 tasks must be run on 3 CPUs at 1.33, 2 and 2.66 GHz (each processor can run only one task at a time). The number of elementary operations of the tasks (expressed in billions of instructions (BI)) is as follows:\n",
        "\n",
        "\n",
        "|    Process  | 1|2|3|4|5|6|7  |\n",
        "|---------|---|---|---|---|---|---|---|\n",
        "|BI   | 1.1| 2.1| 3| 1|0.7|5|3|\n",
        "\n",
        "**Schedule tasks to processors so that the completion time of the last task is minimized**"
      ]
    },
    {
      "cell_type": "code",
      "metadata": {
        "id": "nnUNbf8dv6gL",
        "colab_type": "code",
        "colab": {}
      },
      "source": [
        "from pyomo.environ import *\n",
        "\n",
        "# create a model\n",
        "model = ConcreteModel()\n",
        "\n",
        "cpus =   ['1.33 GHz', '2 GHz', '2.66 GHz']\n",
        "freq = dict(zip(cpus, [1.33, 2, 2.66]))\n",
        "\n",
        "process = [str(i) for i in range(1,8)]\n",
        "BI = dict(zip(process, [1.1, 2.1, 3, 1, 0.7, 5, 3]))\n",
        "\n",
        "\n",
        "# Sets\n",
        "model.cpus = Set(initialize=cpus)\n",
        "model.process = Set(initialize=process)\n",
        "\n",
        "# declare decision variables\n",
        "model.to_cpu = Var(model.cpus, model.process, domain=Binary)\n",
        "model.last_time = Var(domain=NonNegativeReals)\n",
        "\n",
        "# declare objective\n",
        "model.obj = Objective(expr = model.last_time,\n",
        "                       sense=minimize)\n",
        "\n",
        "#declare constraints\n",
        "def cstr_assign(m, p):\n",
        "    # Each task is assigned to exactly one cpu\n",
        "    return (sum(m.to_cpu[c, p] for c in m.cpus) == 1)\n",
        "\n",
        "def cstr_time(m, c):\n",
        "    # the last_time is the upper bound of the time taken by\n",
        "    # each cpu to complete the tasks assigned to it\n",
        "    return (sum(BI[p] * m.to_cpu[c, p] / freq[c]\n",
        "               for p in m.process) <= m.last_time)\n",
        "\n",
        "model.assign = Constraint(model.process, rule=cstr_assign)\n",
        "model.min_time = Constraint(model.cpus, rule=cstr_time)"
      ],
      "execution_count": 0,
      "outputs": []
    },
    {
      "cell_type": "code",
      "metadata": {
        "id": "qvexmvY3wHvO",
        "colab_type": "code",
        "outputId": "98fe4454-c660-4553-e4aa-590d75525d76",
        "colab": {
          "base_uri": "https://localhost:8080/",
          "height": 33
        }
      },
      "source": [
        "# Solve the problem\n",
        "SolverFactory('cbc', executable='/usr/bin/cbc').solve(model)\n",
        "\n",
        "print('Completion time = ', model.obj(), 'seconds')"
      ],
      "execution_count": 11,
      "outputs": [
        {
          "output_type": "stream",
          "text": [
            "Completion time =  2.7819549 seconds\n"
          ],
          "name": "stdout"
        }
      ]
    },
    {
      "cell_type": "markdown",
      "metadata": {
        "id": "WTHVMu61AQfd",
        "colab_type": "text"
      },
      "source": [
        "## Results\n",
        "\n",
        "Let us visualize in a table the task assignment"
      ]
    },
    {
      "cell_type": "code",
      "metadata": {
        "id": "5IA3gcrO9P2J",
        "colab_type": "code",
        "outputId": "0823e3ca-7334-4341-b0bb-679ac7fe7a0b",
        "colab": {
          "base_uri": "https://localhost:8080/",
          "height": 150
        }
      },
      "source": [
        "assignment = model.to_cpu.extract_values()\n",
        "\n",
        "df = pd.DataFrame(\n",
        "    [[assignment[i,j] for i in cpus] for j in process],\n",
        "    columns=cpus,\n",
        "    index=process,\n",
        "    dtype='int'\n",
        ")\n",
        "print(df)"
      ],
      "execution_count": 17,
      "outputs": [
        {
          "output_type": "stream",
          "text": [
            "   1.33 GHz  2 GHz  2.66 GHz\n",
            "1         0      0         1\n",
            "2         0      0         1\n",
            "3         1      0         0\n",
            "4         0      0         1\n",
            "5         1      0         0\n",
            "6         0      1         0\n",
            "7         0      0         1\n"
          ],
          "name": "stdout"
        }
      ]
    },
    {
      "cell_type": "markdown",
      "metadata": {
        "id": "xHx43LRtJeVf",
        "colab_type": "text"
      },
      "source": [
        "The completion time for all tasks is 2.78 seconds"
      ]
    },
    {
      "cell_type": "code",
      "metadata": {
        "id": "uEaYO-lIufrM",
        "colab_type": "code",
        "colab": {
          "base_uri": "https://localhost:8080/",
          "height": 33
        },
        "outputId": "51d7ffaf-bfa3-40c0-f11d-cc8b8a9a572a"
      },
      "source": [
        "print('Completion time = ', model.obj(), 'seconds')"
      ],
      "execution_count": 19,
      "outputs": [
        {
          "output_type": "stream",
          "text": [
            "Completion time =  2.7819549 seconds\n"
          ],
          "name": "stdout"
        }
      ]
    },
    {
      "cell_type": "code",
      "metadata": {
        "id": "qmpA_Gy0ug0K",
        "colab_type": "code",
        "colab": {}
      },
      "source": [
        ""
      ],
      "execution_count": 0,
      "outputs": []
    }
  ]
}