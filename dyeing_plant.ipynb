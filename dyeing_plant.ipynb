{
  "nbformat": 4,
  "nbformat_minor": 0,
  "metadata": {
    "colab": {
      "name": "dyeing_plant.ipynb",
      "provenance": [],
      "collapsed_sections": [],
      "include_colab_link": true
    },
    "kernelspec": {
      "name": "python3",
      "display_name": "Python 3"
    }
  },
  "cells": [
    {
      "cell_type": "markdown",
      "metadata": {
        "id": "view-in-github",
        "colab_type": "text"
      },
      "source": [
        "<a href=\"https://colab.research.google.com/github/ymiftah/operations_research/blob/master/dyeing_plant.ipynb\" target=\"_parent\"><img src=\"https://colab.research.google.com/assets/colab-badge.svg\" alt=\"Open In Colab\"/></a>"
      ]
    },
    {
      "cell_type": "code",
      "metadata": {
        "id": "qNnG66umvsYP",
        "colab_type": "code",
        "colab": {}
      },
      "source": [
        "!pip install -qq pyomo\n",
        "!apt-get install -qq coinor-cbc"
      ],
      "execution_count": 0,
      "outputs": []
    },
    {
      "cell_type": "code",
      "metadata": {
        "id": "YzrGGJd9LIhT",
        "colab_type": "code",
        "colab": {}
      },
      "source": [
        "import numpy as np\n",
        "import pandas as pd\n",
        "import matplotlib.pyplot as plt\n",
        "import matplotlib.patches as patches"
      ],
      "execution_count": 0,
      "outputs": []
    },
    {
      "cell_type": "markdown",
      "metadata": {
        "id": "u66FOAh2AgKk",
        "colab_type": "text"
      },
      "source": [
        "# Dyeing plant\n",
        "\n",
        "<img src=\"https://www.organicdye.com/wp-content/uploads/2017/01/PowderDyePiles_Opt700x200.jpg\" width=\"80%\" alt=\"dye\">"
      ]
    },
    {
      "cell_type": "markdown",
      "metadata": {
        "id": "HBoiWDsEwTJy",
        "colab_type": "text"
      },
      "source": [
        "## Problem Statement\n",
        "A fabric dyeing plant has 3 dyeing baths. Each batch of fabric must be dyed in each bath in the order: ﬁrst, second, third bath. The plant must colour ﬁve batches of fabric of diﬀerent sizes. Dyeing batch i in bath j takes a time sij expressed in hours in the matrix below: \n",
        "\n",
        "\n",
        "$  \\left[\\begin{array}\n",
        "{rrr}\n",
        "3 & 1 & 1 \\\\\n",
        "3 & 1.5& 1 \\\\\n",
        "3 & 1.2 & 1.3 \\\\\n",
        "2 & 2 & 2 \\\\\n",
        "2.1 & 2 & 3\n",
        "\\end{array}\\right]$\n",
        "\n",
        "\n",
        "**Schedule the dyeing operations in the baths so that the ending time of the last batch is minimized**"
      ]
    },
    {
      "cell_type": "code",
      "metadata": {
        "id": "nnUNbf8dv6gL",
        "colab_type": "code",
        "colab": {}
      },
      "source": [
        "from pyomo.environ import *\n",
        "\n",
        "# create a model\n",
        "model = ConcreteModel()\n",
        "\n",
        "batch =   [str(i) for i in range(1,6)]\n",
        "bath = [str(i) for i in range(1,4)]\n",
        "sij = [[  3,   1,   1],\n",
        "       [  2, 1.5,   1],\n",
        "       [  3, 1.2, 1.3],\n",
        "       [  2,   2,   2],\n",
        "       [2.1,   2,   3]\n",
        "       ]\n",
        "time = {(batch[i], bath[j]): sij[i][j]\n",
        "        for i in range(len(batch))\n",
        "        for j in range(len(bath))}\n",
        "bigM = 1000\n",
        "\n",
        "\n",
        "# Sets\n",
        "model.batch = Set(initialize=batch)\n",
        "model.bath = Set(initialize=bath, ordered=True)\n",
        "model.order = Set(initialize=batch, ordered=True)\n",
        "\n",
        "## Declare decision variables\n",
        "# The starting time of batch i in bath j\n",
        "model.start_time = Var(model.batch, model.bath,\n",
        "                       domain=NonNegativeReals)\n",
        "# The ending time of the last dyeing process\n",
        "model.last_time = Var(domain=NonNegativeReals)\n",
        "# Binary variable to ensure correct succesion of actions\n",
        "# m.prec[x, y, b] = 1 if batch x precedes batch y in bath b.\n",
        "model.prec = Var(model.batch, model.batch, model.bath,\n",
        "                 domain=Binary)\n",
        "\n",
        "# declare objective\n",
        "# We want to minimize the ending time of the last deying process\n",
        "model.obj = Objective(expr = model.last_time,\n",
        "                       sense=minimize)\n",
        "\n",
        "#############################\n",
        "##   Constraints\n",
        "#############################\n",
        "\n",
        "def cstr_disjunction(m, x, y, b):\n",
        "    if x == y:\n",
        "        # We put a constraint only for x =/= y\n",
        "        return Constraint.Skip\n",
        "    else:\n",
        "        # For all baths, a batch necessarily precedes another\n",
        "        return m.prec[x, y, b] + m.prec[y, x, b] == 1\n",
        "\n",
        "def cstr_seq(m, x, b):\n",
        "    # Batche x start at bath b only if it finished going through bath b-1\n",
        "    if b != m.bath.last():\n",
        "        return m.start_time[x, b] + time[x, b] <= m.start_time[x, m.bath.next(b)]\n",
        "    else:\n",
        "        # For the last batch the specific condition defines the ending time of\n",
        "        # The process\n",
        "        return m.start_time[x, b] + time[x, b] <= m.last_time\n",
        "\n",
        "def cstr_nonoverlap(m, x, y, b):\n",
        "    if x == y:\n",
        "        # Constraint only applies for distinct batches\n",
        "        return Constraint.Skip\n",
        "    else:\n",
        "        # For all baths,\n",
        "        # if batch d precedes batch dd, batch dd can only go through bath b\n",
        "        # after batch d finishes\n",
        "        # The bigM must be bigger than the longest possible time\n",
        "        return m.start_time[x, b] + time[x, b] <= m.start_time[y, b] + bigM * (1 - m.prec[x, y, b])\n",
        "\n",
        "\n",
        "model.seq = Constraint(model.batch, model.bath, rule=cstr_seq)\n",
        "model.nonoverlap = Constraint(model.batch, model.batch, model.bath, rule=cstr_nonoverlap)\n",
        "model.disjunction = Constraint(model.batch, model.batch, model.bath, rule=cstr_disjunction)"
      ],
      "execution_count": 0,
      "outputs": []
    },
    {
      "cell_type": "code",
      "metadata": {
        "id": "qvexmvY3wHvO",
        "colab_type": "code",
        "outputId": "6c882283-2a58-4077-f8c7-a5cfe65d59a9",
        "colab": {
          "base_uri": "https://localhost:8080/",
          "height": 738
        }
      },
      "source": [
        "# Solve the problem\n",
        "sol = SolverFactory('cbc', executable='/usr/bin/cbc').solve(model)\n",
        "sol.write()"
      ],
      "execution_count": 5,
      "outputs": [
        {
          "output_type": "stream",
          "text": [
            "# ==========================================================\n",
            "# = Solver Results                                         =\n",
            "# ==========================================================\n",
            "# ----------------------------------------------------------\n",
            "#   Problem Information\n",
            "# ----------------------------------------------------------\n",
            "Problem: \n",
            "- Name: unknown\n",
            "  Lower bound: 14.1\n",
            "  Upper bound: 14.1\n",
            "  Number of objectives: 1\n",
            "  Number of constraints: 75\n",
            "  Number of variables: 46\n",
            "  Number of binary variables: 60\n",
            "  Number of integer variables: 60\n",
            "  Number of nonzeros: 1\n",
            "  Sense: minimize\n",
            "# ----------------------------------------------------------\n",
            "#   Solver Information\n",
            "# ----------------------------------------------------------\n",
            "Solver: \n",
            "- Status: ok\n",
            "  User time: -1.0\n",
            "  System time: 0.82\n",
            "  Wallclock time: 0.85\n",
            "  Termination condition: optimal\n",
            "  Termination message: Model was solved to optimality (subject to tolerances), and an optimal solution is available.\n",
            "  Statistics: \n",
            "    Branch and bound: \n",
            "      Number of bounded subproblems: 272\n",
            "      Number of created subproblems: 272\n",
            "    Black box: \n",
            "      Number of iterations: 10044\n",
            "  Error rc: 0\n",
            "  Time: 0.8628723621368408\n",
            "# ----------------------------------------------------------\n",
            "#   Solution Information\n",
            "# ----------------------------------------------------------\n",
            "Solution: \n",
            "- number of solutions: 0\n",
            "  number of solutions displayed: 0\n"
          ],
          "name": "stdout"
        }
      ]
    },
    {
      "cell_type": "markdown",
      "metadata": {
        "id": "WTHVMu61AQfd",
        "colab_type": "text"
      },
      "source": [
        "## Results\n",
        "\n",
        "Let us visualize in a table the task assignment"
      ]
    },
    {
      "cell_type": "code",
      "metadata": {
        "id": "5IA3gcrO9P2J",
        "colab_type": "code",
        "outputId": "d4ebe915-605c-4e04-891d-9d0c07f70c24",
        "colab": {
          "base_uri": "https://localhost:8080/",
          "height": 210
        }
      },
      "source": [
        "start_times = model.start_time.extract_values()\n",
        "\n",
        "start_times = pd.DataFrame(\n",
        "    [[start_times[j,i] for j in batch] for i in bath],\n",
        "    columns=batch,\n",
        "    index=bath,\n",
        "    dtype='int'\n",
        ")\n",
        "\n",
        "end_times = start_times + np.array(sij).T\n",
        "\n",
        "print('Start times\\n', start_times)\n",
        "print('*'*30)\n",
        "print('End times\\n', end_times)"
      ],
      "execution_count": 6,
      "outputs": [
        {
          "output_type": "stream",
          "text": [
            "Start times\n",
            "       1     2    3    4    5\n",
            "1   9.1   7.1  4.1  2.1  0.0\n",
            "2  12.1   9.1  7.1  5.1  2.1\n",
            "3  13.1  10.6  9.1  7.1  4.1\n",
            "******************************\n",
            "End times\n",
            "       1     2     3    4    5\n",
            "1  12.1   9.1   7.1  4.1  2.1\n",
            "2  13.1  10.6   8.3  7.1  4.1\n",
            "3  14.1  11.6  10.4  9.1  7.1\n"
          ],
          "name": "stdout"
        }
      ]
    },
    {
      "cell_type": "markdown",
      "metadata": {
        "id": "xHx43LRtJeVf",
        "colab_type": "text"
      },
      "source": [
        "The completion time for all tasks is 14.1 seconds"
      ]
    },
    {
      "cell_type": "code",
      "metadata": {
        "id": "uEaYO-lIufrM",
        "colab_type": "code",
        "outputId": "8b32ed75-006c-4ea1-a9c8-4ef5419db44d",
        "colab": {
          "base_uri": "https://localhost:8080/",
          "height": 34
        }
      },
      "source": [
        "print('Completion time = ', model.obj(), 'seconds')"
      ],
      "execution_count": 7,
      "outputs": [
        {
          "output_type": "stream",
          "text": [
            "Completion time =  14.1 seconds\n"
          ],
          "name": "stdout"
        }
      ]
    },
    {
      "cell_type": "code",
      "metadata": {
        "id": "qmpA_Gy0ug0K",
        "colab_type": "code",
        "outputId": "bedc8ca2-a1b5-4e76-c50b-e373c08ceb86",
        "colab": {
          "base_uri": "https://localhost:8080/",
          "height": 283
        }
      },
      "source": [
        "# Create figure and axes\n",
        "fig,ax = plt.subplots(1)\n",
        "ax.set_xlim(0,15)\n",
        "ax.set_ylim(0,6)\n",
        "ax.set_ylabel('Dye batch')\n",
        "ax.set_xlabel('Time')\n",
        "\n",
        "\n",
        "# Create a Rectangle patch\n",
        "colors = dict(zip(bath, ['r', 'g', 'b']))\n",
        "for i, d in enumerate(batch):\n",
        "    for j, b in enumerate(bath):\n",
        "        rect = patches.Rectangle((start_times.iloc[j,i], i+.5), sij[i][j],1,linewidth=1,\n",
        "                         facecolor=colors[b])\n",
        "\n",
        "        # Add the patch to the Axes\n",
        "        ax.add_patch(rect)\n",
        "\n",
        "legend_elements = [patches.Patch(facecolor=colors[b], label='Bath '+ b) for b in bath]\n",
        "ax.legend(handles=legend_elements)\n",
        "plt.grid(True)\n",
        "plt.show()"
      ],
      "execution_count": 8,
      "outputs": [
        {
          "output_type": "display_data",
          "data": {
            "image/png": "[encoded data removed]",
            "text/plain": [
              "<Figure size 432x288 with 1 Axes>"
            ]
          },
          "metadata": {
            "tags": []
          }
        }
      ]
    },
    {
      "cell_type": "code",
      "metadata": {
        "id": "bgt01Qpgs-tf",
        "colab_type": "code",
        "colab": {}
      },
      "source": [
        ""
      ],
      "execution_count": 0,
      "outputs": []
    }
  ]
}