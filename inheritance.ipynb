{
  "nbformat": 4,
  "nbformat_minor": 0,
  "metadata": {
    "colab": {
      "name": "inheritance.ipynb",
      "provenance": [],
      "collapsed_sections": [],
      "toc_visible": true,
      "include_colab_link": true
    },
    "kernelspec": {
      "name": "python3",
      "display_name": "Python 3"
    }
  },
  "cells": [
    {
      "cell_type": "markdown",
      "metadata": {
        "id": "view-in-github",
        "colab_type": "text"
      },
      "source": [
        "<a href=\"https://colab.research.google.com/github/ymiftah/operations_research/blob/master/inheritance.ipynb\" target=\"_parent\"><img src=\"https://colab.research.google.com/assets/colab-badge.svg\" alt=\"Open In Colab\"/></a>"
      ]
    },
    {
      "cell_type": "code",
      "metadata": {
        "id": "qNnG66umvsYP",
        "colab_type": "code",
        "colab": {
          "base_uri": "https://localhost:8080/",
          "height": 552
        },
        "outputId": "974fa764-e5a3-4c8d-df5f-f10c98a339f8"
      },
      "source": [
        "!pip install -q pyomo\n",
        "!apt-get install -qq coinor-cbc"
      ],
      "execution_count": 1,
      "outputs": [
        {
          "output_type": "stream",
          "text": [
            "\u001b[K     |████████████████████████████████| 2.3MB 2.9MB/s \n",
            "\u001b[K     |████████████████████████████████| 51kB 7.0MB/s \n",
            "\u001b[K     |████████████████████████████████| 256kB 54.4MB/s \n",
            "\u001b[K     |████████████████████████████████| 163kB 53.1MB/s \n",
            "\u001b[?25hSelecting previously unselected package coinor-libcoinutils3v5.\n",
            "(Reading database ... 132681 files and directories currently installed.)\n",
            "Preparing to unpack .../0-coinor-libcoinutils3v5_2.10.14+repack1-1_amd64.deb ...\n",
            "Unpacking coinor-libcoinutils3v5 (2.10.14+repack1-1) ...\n",
            "Selecting previously unselected package coinor-libosi1v5.\n",
            "Preparing to unpack .../1-coinor-libosi1v5_0.107.9+repack1-1_amd64.deb ...\n",
            "Unpacking coinor-libosi1v5 (0.107.9+repack1-1) ...\n",
            "Selecting previously unselected package coinor-libclp1.\n",
            "Preparing to unpack .../2-coinor-libclp1_1.16.11+repack1-1_amd64.deb ...\n",
            "Unpacking coinor-libclp1 (1.16.11+repack1-1) ...\n",
            "Selecting previously unselected package coinor-libcgl1.\n",
            "Preparing to unpack .../3-coinor-libcgl1_0.59.10+repack1-1_amd64.deb ...\n",
            "Unpacking coinor-libcgl1 (0.59.10+repack1-1) ...\n",
            "Selecting previously unselected package coinor-libcbc3.\n",
            "Preparing to unpack .../4-coinor-libcbc3_2.9.9+repack1-1_amd64.deb ...\n",
            "Unpacking coinor-libcbc3 (2.9.9+repack1-1) ...\n",
            "Selecting previously unselected package coinor-cbc.\n",
            "Preparing to unpack .../5-coinor-cbc_2.9.9+repack1-1_amd64.deb ...\n",
            "Unpacking coinor-cbc (2.9.9+repack1-1) ...\n",
            "Processing triggers for libc-bin (2.27-3ubuntu1) ...\n",
            "Processing triggers for man-db (2.8.3-2ubuntu0.1) ...\n",
            "Setting up coinor-libcoinutils3v5 (2.10.14+repack1-1) ...\n",
            "Setting up coinor-libosi1v5 (0.107.9+repack1-1) ...\n",
            "Setting up coinor-libclp1 (1.16.11+repack1-1) ...\n",
            "Setting up coinor-libcgl1 (0.59.10+repack1-1) ...\n",
            "Setting up coinor-libcbc3 (2.9.9+repack1-1) ...\n",
            "Setting up coinor-cbc (2.9.9+repack1-1) ...\n",
            "Processing triggers for libc-bin (2.27-3ubuntu1) ...\n"
          ],
          "name": "stdout"
        }
      ]
    },
    {
      "cell_type": "code",
      "metadata": {
        "id": "YzrGGJd9LIhT",
        "colab_type": "code",
        "colab": {}
      },
      "source": [
        "import numpy as np\n",
        "import pandas as pd\n",
        "import matplotlib.pyplot as plt\n",
        "from pprint import pprint"
      ],
      "execution_count": 0,
      "outputs": []
    },
    {
      "cell_type": "markdown",
      "metadata": {
        "id": "u66FOAh2AgKk",
        "colab_type": "text"
      },
      "source": [
        "# Splitting an inheritance"
      ]
    },
    {
      "cell_type": "markdown",
      "metadata": {
        "id": "HBoiWDsEwTJy",
        "colab_type": "text"
      },
      "source": [
        "## Problem Statement\n",
        "A rich aristocrat passes away, leaving the following legacy\n",
        "\n",
        "|         | Empty Containers   |\n",
        "|---------|-------------------:|\n",
        "|A Caillebotte picture   | 25000|\n",
        "|a bust of Diocletian  | 5000|\n",
        "|A Yuan dynasty vase    | 20000|\n",
        "|A 911 Porsche  | 40000|\n",
        "|Three Diamonds  | 12000 each|\n",
        "|A Louis XV Sofa  | 3000|\n",
        "|Two race dogs  | 6000|\n",
        "|A Sculpture dated 200 A.D.  | 10000|\n",
        "|A Sailing Boat  | 15000|\n",
        "|A Harley Davidson bike  | 10000|\n",
        "|A precious piece of furniture  | 13000|\n",
        "\n",
        "The will requires that the inheritance be split between the two sons as equally as possible\n",
        "\n",
        "**Find the splitting minimizing the difference between the values ot the two parts**"
      ]
    },
    {
      "cell_type": "code",
      "metadata": {
        "id": "nnUNbf8dv6gL",
        "colab_type": "code",
        "colab": {}
      },
      "source": [
        "from pyomo.environ import *\n",
        "\n",
        "# create a model\n",
        "model = ConcreteModel()\n",
        "\n",
        "objects  =   ['Picture', 'Bust', 'Vase', 'Porsche',\n",
        "              'Diamond_1', 'Diamond_2', 'Diamond_3',\n",
        "              'Sofa', 'Dogs', 'Sculpture', 'Boat',\n",
        "              'Bike', 'Furniture']\n",
        "values       = dict(zip(objects, [25000, 5000, 20000, 40000,\n",
        "                                12000, 12000, 12000,\n",
        "                                3000, 6000, 10000, 15000,\n",
        "                                10000, 13000\n",
        "                                ]))\n",
        "\n",
        "# Sets\n",
        "model.objects = Set(initialize=objects)\n",
        "\n",
        "# declare decision variables\n",
        "model.to_a = Var(model.objects, domain=Binary)\n",
        "model.diff = Var(domain=NonNegativeReals)\n",
        "\n",
        "# declare objective\n",
        "model.obj = Objective(expr = model.diff,\n",
        "                       sense=minimize)\n",
        "\n",
        "#declare constraints\n",
        "def cstr_diff_1(m, i):\n",
        "    return (sum(values[i] * (m.to_a[i] - (1-m.to_a[i]))\n",
        "               for i in m.objects) <= m.diff)\n",
        "\n",
        "def cstr_diff_2(m, i):\n",
        "    return (sum(values[i] * (- m.to_a[i] + (1-m.to_a[i]))\n",
        "               for i in m.objects) <= m.diff)\n",
        "\n",
        "\n",
        "model.diff_1 = Constraint(model.objects, rule=cstr_diff_1)\n",
        "model.diff_2 =  Constraint(model.objects, rule=cstr_diff_2)"
      ],
      "execution_count": 0,
      "outputs": []
    },
    {
      "cell_type": "code",
      "metadata": {
        "id": "qvexmvY3wHvO",
        "colab_type": "code",
        "outputId": "1c9ab483-812c-4973-91fd-b1f911c2c7ac",
        "colab": {
          "base_uri": "https://localhost:8080/",
          "height": 33
        }
      },
      "source": [
        "# Solve the problem\n",
        "SolverFactory('cbc', executable='/usr/bin/cbc').solve(model)\n",
        "\n",
        "print('Difference = ', model.obj())"
      ],
      "execution_count": 9,
      "outputs": [
        {
          "output_type": "stream",
          "text": [
            "Cost =  1000.0\n"
          ],
          "name": "stdout"
        }
      ]
    },
    {
      "cell_type": "markdown",
      "metadata": {
        "id": "WTHVMu61AQfd",
        "colab_type": "text"
      },
      "source": [
        "## Results\n",
        "\n",
        "Let us visualize in a table the splitting"
      ]
    },
    {
      "cell_type": "code",
      "metadata": {
        "id": "5IA3gcrO9P2J",
        "colab_type": "code",
        "outputId": "de1acd36-cad8-45fe-eb61-0f09ce0f2688",
        "colab": {
          "base_uri": "https://localhost:8080/",
          "height": 251
        }
      },
      "source": [
        "splitting = model.to_a.extract_values()\n",
        "\n",
        "df = pd.DataFrame(splitting.values(),\n",
        "                  columns=['Brother A'],\n",
        "                  index=splitting.keys(),\n",
        "                  dtype='int')\n",
        "df['Brother B'] = 1-df['Brother A']\n",
        "print(df)"
      ],
      "execution_count": 21,
      "outputs": [
        {
          "output_type": "stream",
          "text": [
            "           Brother A  Brother B\n",
            "Picture            0          1\n",
            "Bust               1          0\n",
            "Vase               0          1\n",
            "Porsche            1          0\n",
            "Diamond_1          0          1\n",
            "Diamond_2          0          1\n",
            "Diamond_3          1          0\n",
            "Sofa               0          1\n",
            "Dogs               0          1\n",
            "Sculpture          1          0\n",
            "Boat               1          0\n",
            "Bike               1          0\n",
            "Furniture          0          1\n"
          ],
          "name": "stdout"
        }
      ]
    },
    {
      "cell_type": "markdown",
      "metadata": {
        "id": "xHx43LRtJeVf",
        "colab_type": "text"
      },
      "source": [
        "The difference of values between the two brothers is only 1000$"
      ]
    },
    {
      "cell_type": "code",
      "metadata": {
        "id": "uuZ_mT92-mWO",
        "colab_type": "code",
        "outputId": "b212f7f2-6bea-49ab-cab4-16767d72940f",
        "colab": {
          "base_uri": "https://localhost:8080/",
          "height": 33
        }
      },
      "source": [
        "print('Difference = ', model.obj())"
      ],
      "execution_count": 22,
      "outputs": [
        {
          "output_type": "stream",
          "text": [
            "Difference =  1000.0\n"
          ],
          "name": "stdout"
        }
      ]
    }
  ]
}