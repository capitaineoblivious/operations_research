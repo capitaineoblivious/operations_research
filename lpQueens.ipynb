{
  "nbformat": 4,
  "nbformat_minor": 0,
  "metadata": {
    "colab": {
      "name": "lpQueens.ipynb",
      "provenance": [],
      "collapsed_sections": [],
      "include_colab_link": true
    },
    "kernelspec": {
      "name": "python3",
      "display_name": "Python 3"
    }
  },
  "cells": [
    {
      "cell_type": "markdown",
      "metadata": {
        "id": "view-in-github",
        "colab_type": "text"
      },
      "source": [
        "<a href=\"https://colab.research.google.com/github/ymiftah/operations_research/blob/master/lpQueens.ipynb\" target=\"_parent\"><img src=\"https://colab.research.google.com/assets/colab-badge.svg\" alt=\"Open In Colab\"/></a>"
      ]
    },
    {
      "cell_type": "code",
      "metadata": {
        "id": "qNnG66umvsYP",
        "colab_type": "code",
        "colab": {}
      },
      "source": [
        "!pip install -qq pyomo\n",
        "!apt-get install -qq coinor-cbc"
      ],
      "execution_count": 0,
      "outputs": []
    },
    {
      "cell_type": "code",
      "metadata": {
        "id": "YzrGGJd9LIhT",
        "colab_type": "code",
        "colab": {}
      },
      "source": [
        "import numpy as np\n",
        "import pandas as pd\n",
        "import matplotlib.pyplot as plt\n",
        "from pprint import pprint"
      ],
      "execution_count": 0,
      "outputs": []
    },
    {
      "cell_type": "markdown",
      "metadata": {
        "id": "u66FOAh2AgKk",
        "colab_type": "text"
      },
      "source": [
        "# The 8 Queens problem"
      ]
    },
    {
      "cell_type": "markdown",
      "metadata": {
        "id": "HBoiWDsEwTJy",
        "colab_type": "text"
      },
      "source": [
        "## Problem Statement\n",
        "\n",
        "8 Queens can be positioned on a chess board such as no queen is under threat of another.\n",
        "\n",
        "We will generalize this problem by the following: Given a board of size n x n, what is the maximum number of queens we can place on the board such as no queen is under threat of another.\n",
        "\n",
        "Obviously we can at most place n queens, and in the case of a standard 8x8 board the number of Queens we can place is 8.\n",
        "\n",
        "**Formulate the problem as a LP problem**"
      ]
    },
    {
      "cell_type": "code",
      "metadata": {
        "id": "rvzfv9n3YmV2",
        "colab_type": "code",
        "colab": {}
      },
      "source": [
        "# Side Size of the board\n",
        "N = 8\n",
        "\n",
        "positions =  [str(i) + '-' + str(j)\n",
        "              for i in range(1,N+1)\n",
        "              for j in range(1,N+1)]\n",
        "columns = [[str(i) + '-' + str(j)\n",
        "              for i in range(1,N+1)]\n",
        "              for j in range(1,N+1)]\n",
        "rows = [[str(i) + '-' + str(j)\n",
        "              for j in range(1,N+1)]\n",
        "              for i in range(1,N+1)]\n",
        "matrix= np.array(positions).reshape(N,N)\n",
        "diagonals = [list(matrix.diagonal(i)) for i in range(-N+1,N)]\n",
        "matrix = np.fliplr(matrix)\n",
        "antidiag = [list(matrix.diagonal(i)) for i in range(-N+1,N)]"
      ],
      "execution_count": 0,
      "outputs": []
    },
    {
      "cell_type": "code",
      "metadata": {
        "id": "nnUNbf8dv6gL",
        "colab_type": "code",
        "colab": {}
      },
      "source": [
        "from pyomo.environ import *\n",
        "\n",
        "# create a model\n",
        "model = ConcreteModel()\n",
        "\n",
        "# Sets\n",
        "model.board = Set(initialize=positions)\n",
        "\n",
        "# declare decision variables\n",
        "model.queens = Var(model.board, domain=Binary)\n",
        "\n",
        "# declare objective\n",
        "model.obj = Objective(expr = sum(model.queens[p] for p in model.board),\n",
        "                      sense=maximize)\n",
        "\n",
        "#declare constraints\n",
        "# def cstr_queens(m):\n",
        "#     # There are 8 queens in total\n",
        "#     return (sum(m.queens[p] for p in m.board) == 8)\n",
        "# model.cstr_queens = Constraint(rule=cstr_queens)\n",
        "\n",
        "i=0\n",
        "for l in [rows, columns, diagonals, antidiag]:\n",
        "    for pos in l:\n",
        "        i+=1\n",
        "        def cstr_rows(m):\n",
        "            return (sum(m.queens[p] for p in m.board if p in pos) <= 1)\n",
        "        setattr(model, 'cstr_%d'%i, Constraint(rule=cstr_rows))"
      ],
      "execution_count": 0,
      "outputs": []
    },
    {
      "cell_type": "code",
      "metadata": {
        "id": "qvexmvY3wHvO",
        "colab_type": "code",
        "outputId": "82e05ac5-f579-4e16-cfdc-d43c29fd4254",
        "colab": {
          "base_uri": "https://localhost:8080/",
          "height": 305
        }
      },
      "source": [
        "# Solve the problem\n",
        "res = SolverFactory('cbc', executable='/usr/bin/cbc').solve(model)\n",
        "print(res['Solver'])"
      ],
      "execution_count": 23,
      "outputs": [
        {
          "output_type": "stream",
          "text": [
            "\n",
            "- Status: ok\n",
            "  User time: -1.0\n",
            "  System time: 0.01\n",
            "  Wallclock time: 0.01\n",
            "  Termination condition: optimal\n",
            "  Termination message: Model was solved to optimality (subject to tolerances), and an optimal solution is available.\n",
            "  Statistics: \n",
            "    Branch and bound: \n",
            "      Number of bounded subproblems: 0\n",
            "      Number of created subproblems: 0\n",
            "    Black box: \n",
            "      Number of iterations: 0\n",
            "  Error rc: 0\n",
            "  Time: 0.032483816146850586\n",
            "\n"
          ],
          "name": "stdout"
        }
      ]
    },
    {
      "cell_type": "markdown",
      "metadata": {
        "id": "WTHVMu61AQfd",
        "colab_type": "text"
      },
      "source": [
        "## Results\n",
        "\n",
        "We can position a maximum of 8 queens on an 8x8 board"
      ]
    },
    {
      "cell_type": "code",
      "metadata": {
        "id": "lRcMVA_E-eAj",
        "colab_type": "code",
        "colab": {
          "base_uri": "https://localhost:8080/",
          "height": 71
        },
        "outputId": "ad67aae5-df0a-461d-ec12-98f477c070d5"
      },
      "source": [
        "model.obj.display()"
      ],
      "execution_count": 24,
      "outputs": [
        {
          "output_type": "stream",
          "text": [
            "obj : Size=1, Index=None, Active=True\n",
            "    Key  : Active : Value\n",
            "    None :   True :   8.0\n"
          ],
          "name": "stdout"
        }
      ]
    },
    {
      "cell_type": "markdown",
      "metadata": {
        "id": "adhJcey8-enK",
        "colab_type": "text"
      },
      "source": [
        "Let us visualize in a table the queens positions"
      ]
    },
    {
      "cell_type": "code",
      "metadata": {
        "id": "5IA3gcrO9P2J",
        "colab_type": "code",
        "outputId": "542244e7-6dd0-4ede-e207-f66fc423ebce",
        "colab": {
          "base_uri": "https://localhost:8080/",
          "height": 161
        }
      },
      "source": [
        "assignment = model.queens.extract_values()\n",
        "np.array(list(assignment.values())).reshape(N,N)"
      ],
      "execution_count": 25,
      "outputs": [
        {
          "output_type": "execute_result",
          "data": {
            "text/plain": [
              "array([[1., 0., 0., 0., 0., 0., 0., 0.],\n",
              "       [0., 0., 0., 0., 0., 0., 1., 0.],\n",
              "       [0., 0., 0., 1., 0., 0., 0., 0.],\n",
              "       [0., 0., 0., 0., 0., 1., 0., 0.],\n",
              "       [0., 0., 0., 0., 0., 0., 0., 1.],\n",
              "       [0., 1., 0., 0., 0., 0., 0., 0.],\n",
              "       [0., 0., 0., 0., 1., 0., 0., 0.],\n",
              "       [0., 0., 1., 0., 0., 0., 0., 0.]])"
            ]
          },
          "metadata": {
            "tags": []
          },
          "execution_count": 25
        }
      ]
    },
    {
      "cell_type": "markdown",
      "metadata": {
        "id": "vj68cnG1AFVl",
        "colab_type": "text"
      },
      "source": [
        "## Remark\n",
        "\n",
        "Obviously the solution is not unique and finding all possible combination is a more ambitious problem."
      ]
    }
  ]
}