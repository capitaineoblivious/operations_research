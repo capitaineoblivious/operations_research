{
  "nbformat": 4,
  "nbformat_minor": 0,
  "metadata": {
    "colab": {
      "name": "lpQueens.ipynb",
      "provenance": [],
      "collapsed_sections": [],
      "include_colab_link": true
    },
    "kernelspec": {
      "name": "python3",
      "display_name": "Python 3"
    }
  },
  "cells": [
    {
      "cell_type": "markdown",
      "metadata": {
        "id": "view-in-github",
        "colab_type": "text"
      },
      "source": [
        "<a href=\"https://colab.research.google.com/github/ymiftah/operations_research/blob/master/lpQueens.ipynb\" target=\"_parent\"><img src=\"https://colab.research.google.com/assets/colab-badge.svg\" alt=\"Open In Colab\"/></a>"
      ]
    },
    {
      "cell_type": "code",
      "metadata": {
        "id": "qNnG66umvsYP",
        "colab_type": "code",
        "colab": {}
      },
      "source": [
        "!pip install -qq pyomo\n",
        "!apt-get install -qq coinor-cbc"
      ],
      "execution_count": 0,
      "outputs": []
    },
    {
      "cell_type": "code",
      "metadata": {
        "id": "YzrGGJd9LIhT",
        "colab_type": "code",
        "colab": {}
      },
      "source": [
        "import numpy as np\n",
        "import pandas as pd\n",
        "import matplotlib.pyplot as plt\n",
        "from pprint import pprint"
      ],
      "execution_count": 0,
      "outputs": []
    },
    {
      "cell_type": "markdown",
      "metadata": {
        "id": "u66FOAh2AgKk",
        "colab_type": "text"
      },
      "source": [
        "# The 8 Queens problem"
      ]
    },
    {
      "cell_type": "markdown",
      "metadata": {
        "id": "HBoiWDsEwTJy",
        "colab_type": "text"
      },
      "source": [
        "## Problem Statement\n",
        "\n",
        "8 Queens can be positioned on a chess board such as no queen is under threat of another\n",
        "\n",
        "**Formulate the problem as a LP problem**"
      ]
    },
    {
      "cell_type": "code",
      "metadata": {
        "id": "rvzfv9n3YmV2",
        "colab_type": "code",
        "colab": {}
      },
      "source": [
        "positions =  [i+str(j)\n",
        "              for i in list('ABCDEFGH')\n",
        "              for j in range(1,9)]\n",
        "columns = [[i+str(j)\n",
        "              for i in list('ABCDEFGH')]\n",
        "              for j in range(1,9)]\n",
        "rows = [[i+str(j)\n",
        "              for j in range(1,9)]\n",
        "              for i in list('ABCDEFGH')]\n",
        "matrix= np.array(positions).reshape(8,8)\n",
        "diagonals = [list(matrix.diagonal(i)) for i in range(-7,8)]\n",
        "matrix = np.fliplr(matrix)\n",
        "antidiag = [list(matrix.diagonal(i)) for i in range(-7,8)]"
      ],
      "execution_count": 0,
      "outputs": []
    },
    {
      "cell_type": "code",
      "metadata": {
        "id": "nnUNbf8dv6gL",
        "colab_type": "code",
        "colab": {}
      },
      "source": [
        "from pyomo.environ import *\n",
        "\n",
        "# create a model\n",
        "model = ConcreteModel()\n",
        "\n",
        "# Sets\n",
        "model.board = Set(initialize=positions)\n",
        "\n",
        "# declare decision variables\n",
        "model.queens = Var(model.board, domain=Binary)\n",
        "\n",
        "# declare objective\n",
        "model.obj = Objective(expr = sum(model.queens[p] for p in model.board),\n",
        "                      sense=maximize)\n",
        "\n",
        "#declare constraints\n",
        "def cstr_queens(m):\n",
        "    # Each task is assigned to exactly one cpu\n",
        "    return (sum(m.queens[p] for p in m.board) == 8)\n",
        "model.cstr_queens = Constraint(rule=cstr_queens)\n",
        "\n",
        "i=0\n",
        "for l in [rows, columns, diagonals, antidiag]:\n",
        "    for pos in l:\n",
        "        i+=1\n",
        "        def cstr_rows(m):\n",
        "            return (sum(m.queens[p] for p in m.board if p in pos) <= 1)\n",
        "        setattr(model, 'cstr_%d'%i, Constraint(rule=cstr_rows))"
      ],
      "execution_count": 0,
      "outputs": []
    },
    {
      "cell_type": "code",
      "metadata": {
        "id": "qvexmvY3wHvO",
        "colab_type": "code",
        "outputId": "0007ad03-4b12-4b6b-d9eb-5691574acafe",
        "colab": {
          "base_uri": "https://localhost:8080/",
          "height": 55
        }
      },
      "source": [
        "# Solve the problem\n",
        "SolverFactory('cbc', executable='/usr/bin/cbc').solve(model)"
      ],
      "execution_count": 6,
      "outputs": [
        {
          "output_type": "execute_result",
          "data": {
            "text/plain": [
              "{'Problem': [{'Name': 'unknown', 'Lower bound': 8.0, 'Upper bound': 8.0, 'Number of objectives': 1, 'Number of constraints': 43, 'Number of variables': 64, 'Number of binary variables': 64, 'Number of integer variables': 64, 'Number of nonzeros': 64, 'Sense': 'maximize'}], 'Solver': [{'Status': 'ok', 'User time': -1.0, 'System time': 0.02, 'Wallclock time': 0.02, 'Termination condition': 'optimal', 'Termination message': 'Model was solved to optimality (subject to tolerances), and an optimal solution is available.', 'Statistics': {'Branch and bound': {'Number of bounded subproblems': 0, 'Number of created subproblems': 0}, 'Black box': {'Number of iterations': 0}}, 'Error rc': 0, 'Time': 0.037586212158203125}], 'Solution': [OrderedDict([('number of solutions', 0), ('number of solutions displayed', 0)])]}"
            ]
          },
          "metadata": {
            "tags": []
          },
          "execution_count": 6
        }
      ]
    },
    {
      "cell_type": "markdown",
      "metadata": {
        "id": "WTHVMu61AQfd",
        "colab_type": "text"
      },
      "source": [
        "## Results\n",
        "\n",
        "Let us visualize in a table the queens positions"
      ]
    },
    {
      "cell_type": "code",
      "metadata": {
        "id": "5IA3gcrO9P2J",
        "colab_type": "code",
        "outputId": "999e198a-763e-49d9-f610-b2e694d18d07",
        "colab": {
          "base_uri": "https://localhost:8080/",
          "height": 161
        }
      },
      "source": [
        "assignment = model.queens.extract_values()\n",
        "np.array(list(assignment.values())).reshape(8,8)"
      ],
      "execution_count": 8,
      "outputs": [
        {
          "output_type": "execute_result",
          "data": {
            "text/plain": [
              "array([[0., 0., 0., 0., 1., 0., 0., 0.],\n",
              "       [0., 0., 0., 0., 0., 0., 1., 0.],\n",
              "       [1., 0., 0., 0., 0., 0., 0., 0.],\n",
              "       [0., 0., 0., 1., 0., 0., 0., 0.],\n",
              "       [0., 1., 0., 0., 0., 0., 0., 0.],\n",
              "       [0., 0., 0., 0., 0., 0., 0., 1.],\n",
              "       [0., 0., 0., 0., 0., 1., 0., 0.],\n",
              "       [0., 0., 1., 0., 0., 0., 0., 0.]])"
            ]
          },
          "metadata": {
            "tags": []
          },
          "execution_count": 8
        }
      ]
    },
    {
      "cell_type": "code",
      "metadata": {
        "id": "1_Dqg_Q_kBJb",
        "colab_type": "code",
        "colab": {}
      },
      "source": [
        ""
      ],
      "execution_count": 0,
      "outputs": []
    }
  ]
}