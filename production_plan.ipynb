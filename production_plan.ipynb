{
  "nbformat": 4,
  "nbformat_minor": 0,
  "metadata": {
    "colab": {
      "name": "production_plan.ipynb",
      "version": "0.3.2",
      "provenance": [],
      "collapsed_sections": [],
      "toc_visible": true,
      "include_colab_link": true
    },
    "kernelspec": {
      "name": "python3",
      "display_name": "Python 3"
    }
  },
  "cells": [
    {
      "cell_type": "markdown",
      "metadata": {
        "id": "view-in-github",
        "colab_type": "text"
      },
      "source": [
        "<a href=\"https://colab.research.google.com/github/capitaineoblivious/operations_research/blob/master/production_plan.ipynb\" target=\"_parent\"><img src=\"https://colab.research.google.com/assets/colab-badge.svg\" alt=\"Open In Colab\"/></a>"
      ]
    },
    {
      "cell_type": "code",
      "metadata": {
        "id": "qNnG66umvsYP",
        "colab_type": "code",
        "outputId": "8fb777f0-30b2-42d0-f511-782f2225b3d2",
        "colab": {
          "base_uri": "https://localhost:8080/",
          "height": 106
        }
      },
      "source": [
        "!pip install -q pyomo\n",
        "!apt-get install -y -q coinor-cbc"
      ],
      "execution_count": 17,
      "outputs": [
        {
          "output_type": "stream",
          "text": [
            "Reading package lists...\n",
            "Building dependency tree...\n",
            "Reading state information...\n",
            "coinor-cbc is already the newest version (2.9.9+repack1-1).\n",
            "0 upgraded, 0 newly installed, 0 to remove and 8 not upgraded.\n"
          ],
          "name": "stdout"
        }
      ]
    },
    {
      "cell_type": "code",
      "metadata": {
        "id": "YzrGGJd9LIhT",
        "colab_type": "code",
        "colab": {}
      },
      "source": [
        "import numpy as np\n",
        "import pandas as pd\n",
        "import matplotlib.pyplot as plt\n",
        "from pprint import pprint"
      ],
      "execution_count": 0,
      "outputs": []
    },
    {
      "cell_type": "markdown",
      "metadata": {
        "id": "HBoiWDsEwTJy",
        "colab_type": "text"
      },
      "source": [
        "## A Production planning\n",
        "\n",
        "A firm is planning the production of 3 products A1, A2, A3. We will here try to find the best production planning for the firm in an iterative manner, increasing the level of details at each step.\n",
        "\n",
        "### Introduction\n",
        "\n",
        "In a month production can be active for 22 days. In the following table are given: maximum demand in a month (units=100kg), selling price of a unit (\\\\$/100Kg), production costs per unit (per 100Kg of product), and production quotas (maximum amount of 100kg units of product that would be produced in a day if all production lines were dedicated to the product).\n",
        "\n",
        "We also provide activation costs ( $) which are the cost incurred when we decide to activate a production line during the month, and a minimum production batch (units/day), which is the maximum quantity that can be produced per day if we decide to activate a production line.\n",
        "\n",
        "\n",
        "| Product          | $A_1 $  | $A_2 $  |  $A_3  $ |\n",
        "|------------------|-------|-------|-------|\n",
        "| Maximum demand   | 5300  | 4500  | 5400  |\n",
        "| Selling price    | 124   | 109   | 115   |\n",
        "| Production cost  | 73.3  | 52.9  | 65.4  |\n",
        "| Production quota | 500   | 450   | 550   |\n",
        "| Activation cost | 170000   | 150000   | 10000   |\n",
        "| Minimum production batch | 20   | 20   | 16   |\n",
        "\n",
        "\n",
        "**Find the production maximizing total revenue**"
      ]
    },
    {
      "cell_type": "code",
      "metadata": {
        "id": "nnUNbf8dv6gL",
        "colab_type": "code",
        "colab": {}
      },
      "source": [
        "from pyomo.environ import *\n",
        "\n",
        "# create a model\n",
        "model = ConcreteModel()\n",
        "\n",
        "products   =                     ['A1', 'A2', 'A3']\n",
        "\n",
        "demand      = dict(zip(products, [5300, 4500, 5400]))\n",
        "price       = dict(zip(products, [ 124,  109,  115]))\n",
        "cost        = dict(zip(products, [73.3, 52.9, 65.4]))\n",
        "quota       = dict(zip(products, [ 500,  450,  550]))\n",
        "activ_cost  = dict(zip(products, [17e4, 15e4, 10e4]))\n",
        "min_batch   = dict(zip(products, [  20,   20,   16]))\n",
        "\n",
        "days = 22\n",
        "\n",
        "# Sets\n",
        "model.products = Set(initialize=products)\n",
        "\n",
        "# declare decision variables\n",
        "model.x = Var(model.products, domain=NonNegativeReals)\n",
        "model.y = Var(model.products, domain=Binary)\n",
        "\n",
        "# declare objective\n",
        "model.profit = Objective(expr = sum((price[i] - cost[i]) * model.x[i]\n",
        "                                    - activ_cost[i] * model.y[i]\n",
        "                                    for i in model.products),\n",
        "                         sense=maximize)\n",
        "\n",
        "#declare constraints\n",
        "def cstr_demand(m, i):\n",
        "    return m.x[i] <= demand[i]\n",
        "\n",
        "def cstr_activation(m, i):\n",
        "    return m.x[i] <= days * quota[i] * m.y[i]\n",
        "\n",
        "def cstr_batch(m, i):\n",
        "    return m.x[i] >= min_batch[i] * m.y[i]\n",
        "\n",
        "def cstr_prod(m):\n",
        "    return sum(m.x[i]/quota[i] for i in m.products) <= days\n",
        "\n",
        "model.demand = Constraint(model.products, rule=cstr_demand)\n",
        "model.act = Constraint(model.products, rule=cstr_activation)\n",
        "model.batch = Constraint(model.products, rule=cstr_batch)\n",
        "model.prod = Constraint(rule=cstr_prod)"
      ],
      "execution_count": 0,
      "outputs": []
    },
    {
      "cell_type": "code",
      "metadata": {
        "id": "qvexmvY3wHvO",
        "colab_type": "code",
        "outputId": "3f09dce7-290c-4c00-83ff-8943546ecdcf",
        "colab": {
          "base_uri": "https://localhost:8080/",
          "height": 52
        }
      },
      "source": [
        "# Solve the problem\n",
        "SolverFactory('cbc', executable='/usr/bin/cbc').solve(model)\n",
        "\n",
        "print('Profit = ', model.profit())\n",
        "print('Production =', model.x.extract_values())"
      ],
      "execution_count": 20,
      "outputs": [
        {
          "output_type": "stream",
          "text": [
            "Profit =  270289.99999999994\n",
            "Production = {'A1': 0.0, 'A2': 4500.0, 'A3': 5400.0}\n"
          ],
          "name": "stdout"
        }
      ]
    },
    {
      "cell_type": "markdown",
      "metadata": {
        "id": "Ww7LlKfezyDd",
        "colab_type": "text"
      },
      "source": [
        "### A Monthly production planning\n",
        "\n",
        "A firm is planning the production of 3 products A1, A2, A3 over a time horizon of 4 months (january to april). Demand for the products over the months is as follows:\n",
        "\n",
        "| Demand | January | February | March | April |\n",
        "|--------|---------|----------|-------|-------|\n",
        "| $A_1$  | 5300    | 1200     | 7400  | 5300  |\n",
        "| $A_2$  | 4500    | 5400     | 6500  | 7200  |\n",
        "| $A_3$  | 4400    | 6700     | 12500 | 13200 |\n",
        "\n",
        "Prices, production costs, production quotas, activation costs and minimum batches (see Ex. 4.3 for definitions of these quantities) are\n",
        "\n",
        "| Product | Unit prices | Activation costs | Production costs | Production quotas | Minimum batches |\n",
        "|---------|-------------|------------------|------------------|-------------------|-----------------|\n",
        "| $A_1$   | 124         | 150000           | 73.3             | 500               | 20              |\n",
        "| $A_2$   | 109         | 150000           | 52.9             | 450               | 20              |\n",
        "| $A_3$   | 115         | 100000           | 65.4             | 550               | 16              |\n",
        "\n",
        "There are 23 productive days in january, 20 in february, 23 in march and 22 in april. The activation status of a production line can be changed every month. Minimum batches are monthly.\n",
        "\n",
        "Moreover, storage space can be rented at monthly rates of \\$3.50 for A1, \\\\$4.00 for A2 and \\\\\\$3.00 for A3. Each product takes the same amount of storage space. The total available volume is 800 units.\n",
        "Write a mathematical program to maximize the income, and solve it"
      ]
    },
    {
      "cell_type": "code",
      "metadata": {
        "id": "xW9sMGedz6z3",
        "colab_type": "code",
        "colab": {}
      },
      "source": [
        "# create a model\n",
        "model = ConcreteModel()\n",
        "\n",
        "products     =                     ['A1', 'A2', 'A3']\n",
        "\n",
        "price        = dict(zip(products, [ 124,  109,  115]))\n",
        "cost         = dict(zip(products, [73.3, 52.9, 65.4]))\n",
        "quota        = dict(zip(products, [ 500,  450,  550]))\n",
        "activ_cost   = dict(zip(products, [15e4, 15e4, 10e4]))\n",
        "min_batch    = dict(zip(products, [  20,   20,   16]))\n",
        "storage_cost = dict(zip(products, [ 3.5,    4,    3]))\n",
        "\n",
        "months      =                   ['January', 'February', 'March', 'April']\n",
        "days        = dict(zip(months,  [       23,         20,      23,      22]))\n",
        "\n",
        "demand      = {('A1', 'January') : 5300,\n",
        "               ('A1', 'February'): 1200,\n",
        "               ('A1', 'March')   : 7400,\n",
        "               ('A1', 'April')   : 5300,\n",
        "               ('A2', 'January') : 4500,\n",
        "               ('A2', 'February'): 5400,\n",
        "               ('A2', 'March')   : 6500,\n",
        "               ('A2', 'April')   : 7200,\n",
        "               ('A3', 'January') : 4400,\n",
        "               ('A3', 'February'): 6700,\n",
        "               ('A3', 'March')   : 12500,\n",
        "               ('A3', 'April')   : 13200,\n",
        "               }\n",
        "\n",
        "storage_space = 800 \n",
        "\n",
        "# Sets\n",
        "model.products = Set(initialize=products)\n",
        "model.months = Set(initialize=months, ordered=True)\n",
        "\n",
        "# declare decision variables\n",
        "model.x = Var(model.products, model.months, domain=NonNegativeReals)  # Units produced\n",
        "model.s = Var(model.products, model.months, domain=NonNegativeReals)  # Units sold\n",
        "model.y = Var(model.products, model.months, domain=Binary)\n",
        "model.stored = Var(model.products,model.months, domain=NonNegativeReals)  # total stock\n",
        "\n",
        "# declare objective\n",
        "model.profit = Objective(expr = sum(price[i] * model.s[i, t]\n",
        "                                    - cost[i] * model.x[i, t]\n",
        "                                    - activ_cost[i] * model.y[i, t]\n",
        "                                    - storage_cost[i] * model.stored[i, t] \n",
        "                                    for i in model.products\n",
        "                                    for t in model.months\n",
        "                                   ),\n",
        "                         sense=maximize)\n",
        "\n",
        "#declare constraints\n",
        "def cstr_demand(m, i, t):\n",
        "    return m.s[i,t] <= demand[i,t]\n",
        "\n",
        "def cstr_activation(m, i, t):\n",
        "    return m.x[i, t] <= days[t] * quota[i] * m.y[i, t]\n",
        "\n",
        "def cstr_batch(m, i, t):\n",
        "    return m.x[i, t] >= min_batch[i] * m.y[i, t]\n",
        "\n",
        "def cstr_prod(m, t):\n",
        "    return sum(m.x[i, t]/quota[i] for i in m.products) <= days[t]\n",
        "\n",
        "def cstr_stock(m, i, t):\n",
        "    if value(t) == m.months.first():\n",
        "        return m.stored[i, t] == 0\n",
        "    else:\n",
        "        return m.stored[i, t] == m.stored[i, m.months.prev(t)] + m.x[i, t] - m.s[i, t]\n",
        "\n",
        "def cstr_stock_max(m, t):\n",
        "    return sum(m.stored[i, t] for i in products) <= storage_space\n",
        "\n",
        "model.demand = Constraint(model.products, model.months, rule=cstr_demand)\n",
        "model.act = Constraint(model.products, model.months, rule=cstr_activation)\n",
        "model.batch = Constraint(model.products, model.months, rule=cstr_batch)\n",
        "model.prod = Constraint(model.months, rule=cstr_prod)\n",
        "model.stock = Constraint(model.products, model.months, rule=cstr_stock)\n",
        "model.stock_max = Constraint(model.months, rule=cstr_stock_max)"
      ],
      "execution_count": 0,
      "outputs": []
    },
    {
      "cell_type": "code",
      "metadata": {
        "id": "RrFHpfyyKeSu",
        "colab_type": "code",
        "outputId": "54724a29-e470-4e71-be1d-240f705126ae",
        "colab": {
          "base_uri": "https://localhost:8080/",
          "height": 248
        }
      },
      "source": [
        "# Solve the problem\n",
        "SolverFactory('cbc', executable='/usr/bin/cbc').solve(model)\n",
        "\n",
        "print('Profit = ', model.profit())\n",
        "pprint(model.x.extract_values())"
      ],
      "execution_count": 22,
      "outputs": [
        {
          "output_type": "stream",
          "text": [
            "Profit =  2960539.9989799997\n",
            "{('A1', 'April'): 0.0,\n",
            " ('A1', 'February'): 0.0,\n",
            " ('A1', 'January'): 0.0,\n",
            " ('A1', 'March'): 0.0,\n",
            " ('A2', 'April'): 0.0,\n",
            " ('A2', 'February'): 3518.1818,\n",
            " ('A2', 'January'): 0.0,\n",
            " ('A2', 'March'): 0.0,\n",
            " ('A3', 'April'): 12100.0,\n",
            " ('A3', 'February'): 6700.0,\n",
            " ('A3', 'January'): 0.0,\n",
            " ('A3', 'March'): 12650.0}\n"
          ],
          "name": "stdout"
        }
      ]
    },
    {
      "cell_type": "markdown",
      "metadata": {
        "id": "PHJ7K1K5N_7d",
        "colab_type": "text"
      },
      "source": [
        "### A Daily production planning\n",
        "\n",
        "We now go in deeper level of detail.\n",
        "\n",
        "The firm is still planning the production of 3 products A1, A2, A3 over a time horizon of 4 months (january to april). Maximum demand for the products over the months is as before:\n",
        "\n",
        "| Max Demand | January | February | March | April |\n",
        "|--------|---------|----------|-------|-------|\n",
        "| $A_1$  | 5300    | 1200     | 7400  | 5300  |\n",
        "| $A_2$  | 4500    | 5400     | 6500  | 7200  |\n",
        "| $A_3$  | 4400    | 6700     | 12500 | 13200 |\n",
        "\n",
        "This time however there are also minimum quantities that the firm must produce:\n",
        "\n",
        "\n",
        "| Min production | January | February | March | April |\n",
        "|--------|---------|----------|-------|-------|\n",
        "| $A_1$  | 1100    | 100     | 2000  | 3300  |\n",
        "| $A_2$  | 2300    | 400     | 3000  | 2200  |\n",
        "| $A_3$  | 500    | 1200     | 5500 | 3200 |\n",
        "\n",
        "Prices, production costs, production quotas, activation costs and minimum batches (see Ex. 4.3 for definitions of these quantities) are\n",
        "\n",
        "| Product | Unit prices | Activation costs | Production costs | Maximum batches | Minimum batches |\n",
        "|---------|-------------|------------------|------------------|-------------------|-----------------|\n",
        "| $A_1$   | 124         | 75000           | 73.3             | 500               | 20              |\n",
        "| $A_2$   | 109         | 75000           | 52.9             | 450               | 20              |\n",
        "| $A_3$   | 115         | 50000           | 65.4             | 550               | 16              |\n",
        "\n",
        "There are 23 productive days in january, 20 in february, 23 in march and 22 in april. We make the approximation that these days are consecutive. The activation status of a production line can be changed every day. Minimum batches are daily.\n",
        "A line when activated is limited in the number of consecutive days it can run. When a line stops it needs a few days offline for maintenance operations.\n",
        "\n",
        "| Product | Maximum days | Maintenance duration |\n",
        "|---------|--------------|----------------------|\n",
        "| $A_1$   | 5            | 2                    |\n",
        "| $A_2$   | 7            | 3                    |\n",
        "| $A_3$   | 4            | 1                    |\n",
        "\n",
        "Moreover, storage space can be rented at daily rates of \\$0.35 for A1, \\\\$0.4 for A2 and \\\\\\$0.3 for A3. Each product takes the same amount of storage space. The total available volume is 800 units.\n",
        "\n",
        "\n",
        "Write a mathematical program to maximize the income, and solve it"
      ]
    },
    {
      "cell_type": "code",
      "metadata": {
        "colab_type": "code",
        "id": "ZgqiKGigTp0z",
        "colab": {}
      },
      "source": [
        "products     =                     ['A1', 'A2', 'A3']\n",
        "\n",
        "price        = dict(zip(products, [ 124,  109,  135]))\n",
        "cost         = dict(zip(products, [73.3, 52.9, 65.4]))\n",
        "activ_cost   = dict(zip(products, [75e3, 75e3,  5e4]))\n",
        "max_batch    = dict(zip(products, [ 500,  450,  550]))\n",
        "min_batch    = dict(zip(products, [  20,   20,   16]))\n",
        "storage_cost = dict(zip(products, [ 3.5,    4,    3]))\n",
        "\n",
        "months       = ['01M', '02M', '03M', '04M']\n",
        "\n",
        "days         = (['0000'] +\n",
        "                ['01M'  + str(i+1).zfill(2) for i in range(23)] +\n",
        "                ['02M'  + str(i+1).zfill(2) for i in range(20)] +\n",
        "                ['03M'  + str(i+1).zfill(2) for i in range(23)] +\n",
        "                ['04M'  + str(i+1).zfill(2) for i in range(22)])\n",
        "\n",
        "demand      = {('A1', '01M'): 5300,  ('A2', '01M'): 4500, ('A3', '01M'): 4400,\n",
        "               ('A1', '02M'): 1200,  ('A2', '02M'): 5400, ('A3', '02M'): 6700,\n",
        "               ('A1', '03M'): 7400,  ('A2', '03M'): 6500, ('A3', '03M'): 12500,\n",
        "               ('A1', '04M'): 5300,  ('A2', '04M'): 7200, ('A3', '04M'): 13200,\n",
        "               }\n",
        "\n",
        "demand_min  = {('A1', '01M'): 1100,  ('A2', '01M'): 2300, ('A3', '01M'):  500,\n",
        "               ('A1', '02M'):  100,  ('A2', '02M'):  400, ('A3', '02M'): 1200,\n",
        "               ('A1', '03M'): 2000,  ('A2', '03M'): 3000, ('A3', '03M'): 5500,\n",
        "               ('A1', '04M'): 3300,  ('A2', '04M'): 2200, ('A3', '04M'): 3200,\n",
        "               }\n",
        "\n",
        "storage_space = 800 \n",
        "\n",
        "max_run  = {'A1': 5, 'A2': 7, 'A3': 4}\n",
        "min_stop = {'A1': 2, 'A2': 3, 'A3': 1}\n"
      ],
      "execution_count": 0,
      "outputs": []
    },
    {
      "cell_type": "code",
      "metadata": {
        "id": "wKZbk46jWCk-",
        "colab_type": "code",
        "colab": {}
      },
      "source": [
        "# create a model\n",
        "model = ConcreteModel()\n",
        "\n",
        "# Sets\n",
        "model.products = Set(initialize=products)\n",
        "model.months   = Set(initialize=months, ordered=True)\n",
        "model.days     = Set(initialize=days, ordered=True)\n",
        "def func_mdpair(m, d):\n",
        "    for mm in m:\n",
        "        for dd in d:\n",
        "            if mm in dd:\n",
        "                yield (mm, dd)\n",
        "\n",
        "model.mdpair = Set(initialize=func_mdpair(months, days))\n",
        "\n",
        "# declare decision variables\n",
        "model.x = Var(model.products, model.days, domain=NonNegativeReals)  # Units produced\n",
        "model.s = Var(model.products, model.days, domain=NonNegativeReals)  # Units sold\n",
        "model.start = Var(model.products, model.days, domain=Binary)\n",
        "model.stop = Var(model.products, model.days, domain=Binary)\n",
        "model.on = Var(model.products, model.days, domain=Binary)\n",
        "model.stored = Var(model.products, model.days, domain=NonNegativeReals)  # total stock\n",
        "\n",
        "# declare objective\n",
        "model.profit = Objective(expr = sum(price[i] * model.s[i, t]\n",
        "                                    - cost[i] * model.x[i, t]\n",
        "                                    - activ_cost[i] * model.start[i, t]\n",
        "                                    - storage_cost[i] * model.stored[i, t] \n",
        "                                    for i in model.products\n",
        "                                    for t in model.days\n",
        "                                   ),\n",
        "                         sense=maximize)\n",
        "\n",
        "#declare constraints\n",
        "def cstr_demand(m, product, month):\n",
        "    return (sum(m.s[product, day] for day in m.days if (month, day) in m.mdpair)\n",
        "            <= demand[product, month])\n",
        "\n",
        "def cstr_demand_min(m, product, month):\n",
        "    return (sum(m.s[product, day] for day in m.days if (month, day) in m.mdpair)\n",
        "            >= demand_min[product, month])\n",
        "\n",
        "def cstr_activation(m, i, t):\n",
        "    return m.x[i, t] <= max_batch[i] * m.on[i, t]\n",
        "\n",
        "def cstr_batch(m, i, t):\n",
        "    return m.x[i, t] >= min_batch[i] * m.on[i, t]\n",
        "\n",
        "def cstr_start_stop(m, i, t):\n",
        "    if not value(t) == m.days.first():\n",
        "        return m.start[i, t] - m.stop[i,t] == m.on[i, t] - m.on[i,m.days.prev(t)]\n",
        "    else:\n",
        "        return Constraint.Skip\n",
        "\n",
        "def cstr_start_stop2(m, i, t):\n",
        "    return m.start[i, t] + m.stop[i,t] <= 1\n",
        "\n",
        "def cstr_stock(m, i, t):\n",
        "    if value(t) == m.days.first():\n",
        "        return m.stored[i, t] == 0\n",
        "    else:\n",
        "        return m.stored[i, t] + m.s[i, t] == m.stored[i, m.days.prev(t)] + m.x[i, t]\n",
        "\n",
        "def cstr_two_lines(m, t):\n",
        "    return sum(m.on[i, t] for i in m.products) <= 2\n",
        "\n",
        "def cstr_max_work(m, i, t):\n",
        "    if m.days.ord(t) > max_run[i]:\n",
        "        return sum( (1 - m.on[i, tt]) for tt in m.days if m.days.ord(t) - max_run[i] <= m.days.ord(tt) <= m.days.ord(t)) >= 1\n",
        "    else:\n",
        "        return Constraint.Skip\n",
        "\n",
        "def cstr_min_stop(m, i, t):\n",
        "    if m.days.ord(t) > min_stop[i]:\n",
        "        return (sum( (m.stop[i, tt]) for tt in m.days if m.days.ord(t) - min_stop[i] <= m.days.ord(tt) <= m.days.ord(t))\n",
        "                <= (1 - m.on[i, t]))\n",
        "    else:\n",
        "        return Constraint.Skip\n",
        "\n",
        "def cstr_stock_max(m, t):\n",
        "    return sum(m.stored[i, t] for i in products) <= storage_space\n",
        "\n",
        "model.demand = Constraint(model.products, model.months, rule=cstr_demand)\n",
        "model.demand_min = Constraint(model.products, model.months, rule=cstr_demand_min)\n",
        "\n",
        "model.cstr_two_lines = Constraint(model.days, rule=cstr_two_lines)\n",
        "\n",
        "model.act = Constraint(model.products, model.days, rule=cstr_activation)\n",
        "model.batch = Constraint(model.products, model.days, rule=cstr_batch)\n",
        "\n",
        "model.cstr_start_stop = Constraint(model.products, model.days,\n",
        "                                   rule=cstr_start_stop)\n",
        "model.cstr_start_stop2 = Constraint(model.products, model.days,\n",
        "                                   rule=cstr_start_stop2)\n",
        "model.cstr_max_work = Constraint(model.products, model.days,\n",
        "                                 rule = cstr_max_work)\n",
        "model.cstr_min_stop = Constraint(model.products, model.days,\n",
        "                                 rule = cstr_min_stop)\n",
        "\n",
        "model.stock = Constraint(model.products, model.days, rule=cstr_stock)\n",
        "model.stock_max = Constraint(model.days, rule=cstr_stock_max)\n",
        "model.sell_init = Constraint(model.products,\n",
        "                             rule=lambda m, i: m.s[i, m.days.first()] == 0)\n",
        "model.prod_init = Constraint(model.products,\n",
        "                             rule=lambda m, i: m.x[i, m.days.first()] == 0)"
      ],
      "execution_count": 0,
      "outputs": []
    },
    {
      "cell_type": "code",
      "metadata": {
        "id": "EaoG2PXLYAY2",
        "colab_type": "code",
        "outputId": "f37647a7-8d3b-42ea-f794-d91a1352804e",
        "colab": {
          "base_uri": "https://localhost:8080/",
          "height": 35
        }
      },
      "source": [
        "# Solve the problem\n",
        "opt = SolverFactory('cbc', executable='/usr/bin/cbc')\n",
        "opt.options[\"ratioGap\"] = 1\n",
        "opt.solve(model)\n",
        "\n",
        "print('Profit = ', model.profit())"
      ],
      "execution_count": 230,
      "outputs": [
        {
          "output_type": "stream",
          "text": [
            "Profit =  1556500.0\n"
          ],
          "name": "stdout"
        }
      ]
    },
    {
      "cell_type": "code",
      "metadata": {
        "id": "RTadqt5o0VvE",
        "colab_type": "code",
        "colab": {}
      },
      "source": [
        "def pyo_df(model, attr, columns):\n",
        "    ob = getattr(model, attr)\n",
        "    dic = ob.extract_values()\n",
        "    seq = [list(key) + [val] for key, val in dic.items()]\n",
        "    return pd.DataFrame(seq, columns=columns)"
      ],
      "execution_count": 0,
      "outputs": []
    },
    {
      "cell_type": "markdown",
      "metadata": {
        "id": "N_MiKOM93GiH",
        "colab_type": "text"
      },
      "source": [
        "Let us visualize the line status over the period. They actually always run at full capacity since it is the most economical solution"
      ]
    },
    {
      "cell_type": "code",
      "metadata": {
        "id": "h83_WnWXhaDB",
        "colab_type": "code",
        "colab": {
          "base_uri": "https://localhost:8080/",
          "height": 195
        },
        "outputId": "a9eb3811-6719-4e42-afad-1d1e86fa206e"
      },
      "source": [
        "import seaborn as sns\n",
        "import matplotlib.pyplot as plt\n",
        "\n",
        "x_sol = pyo_df(model, 'on', ['Product', 'Day', 'Volume'])\n",
        "x_sol = x_sol.pivot(index='Day', columns='Product', values='Volume')\n",
        "\n",
        "sns.set(style=\"white\")\n",
        "\n",
        "# Set up the matplotlib figure\n",
        "f, ax = plt.subplots(figsize=(30,7))\n",
        "\n",
        "# Generate a custom diverging colormap\n",
        "cmap = sns.diverging_palette(220, 10, as_cmap=True)\n",
        "\n",
        "# Draw the heatmap with the mask and correct aspect ratio\n",
        "sns.heatmap(x_sol.T, cmap=cmap, center=0, square=True,\n",
        "            linewidths=.5, cbar=False)"
      ],
      "execution_count": 232,
      "outputs": [
        {
          "output_type": "execute_result",
          "data": {
            "text/plain": [
              "<matplotlib.axes._subplots.AxesSubplot at 0x7f74d1c78dd8>"
            ]
          },
          "metadata": {
            "tags": []
          },
          "execution_count": 232
        },
        {
          "output_type": "display_data",
          "data": {
            "image/png": "[encoded data removed]",
            "text/plain": [
              "<Figure size 2160x504 with 1 Axes>"
            ]
          },
          "metadata": {
            "tags": []
          }
        }
      ]
    },
    {
      "cell_type": "markdown",
      "metadata": {
        "id": "_NxDqoU75iEz",
        "colab_type": "text"
      },
      "source": [
        "Let us now have a look at the quantities sold each month"
      ]
    },
    {
      "cell_type": "code",
      "metadata": {
        "id": "csMiMrKV5zXW",
        "colab_type": "code",
        "colab": {}
      },
      "source": [
        "x_sol = pyo_df(model, 's', ['Product', 'Day', 'Volume'])\n",
        "x_sol = x_sol.pivot(index='Day', columns='Product', values='Volume')\n",
        "Jan = x_sol[x_sol.index.str.contains('01M')].sum()\n",
        "Feb = x_sol[x_sol.index.str.contains('02M')].sum()\n",
        "Mar = x_sol[x_sol.index.str.contains('03M')].sum()\n",
        "Apr = x_sol[x_sol.index.str.contains('04M')].sum()"
      ],
      "execution_count": 0,
      "outputs": []
    },
    {
      "cell_type": "code",
      "metadata": {
        "id": "oFRWouan6aQQ",
        "colab_type": "code",
        "colab": {
          "base_uri": "https://localhost:8080/",
          "height": 164
        },
        "outputId": "ab93213f-42ff-42b6-ac48-69ac1ad37201"
      },
      "source": [
        "pd.DataFrame([Jan, Feb, Mar, Apr], index=['Jan', 'Feb', 'Mar', 'Apr'])"
      ],
      "execution_count": 237,
      "outputs": [
        {
          "output_type": "execute_result",
          "data": {
            "text/html": [
              "<div>\n",
              "<style scoped>\n",
              "    .dataframe tbody tr th:only-of-type {\n",
              "        vertical-align: middle;\n",
              "    }\n",
              "\n",
              "    .dataframe tbody tr th {\n",
              "        vertical-align: top;\n",
              "    }\n",
              "\n",
              "    .dataframe thead th {\n",
              "        text-align: right;\n",
              "    }\n",
              "</style>\n",
              "<table border=\"1\" class=\"dataframe\">\n",
              "  <thead>\n",
              "    <tr style=\"text-align: right;\">\n",
              "      <th>Product</th>\n",
              "      <th>A1</th>\n",
              "      <th>A2</th>\n",
              "      <th>A3</th>\n",
              "    </tr>\n",
              "  </thead>\n",
              "  <tbody>\n",
              "    <tr>\n",
              "      <th>Jan</th>\n",
              "      <td>4500.0</td>\n",
              "      <td>4500.0</td>\n",
              "      <td>4400.0</td>\n",
              "    </tr>\n",
              "    <tr>\n",
              "      <th>Feb</th>\n",
              "      <td>500.0</td>\n",
              "      <td>5400.0</td>\n",
              "      <td>4400.0</td>\n",
              "    </tr>\n",
              "    <tr>\n",
              "      <th>Mar</th>\n",
              "      <td>2000.0</td>\n",
              "      <td>5300.0</td>\n",
              "      <td>6050.0</td>\n",
              "    </tr>\n",
              "    <tr>\n",
              "      <th>Apr</th>\n",
              "      <td>5300.0</td>\n",
              "      <td>2700.0</td>\n",
              "      <td>4400.0</td>\n",
              "    </tr>\n",
              "  </tbody>\n",
              "</table>\n",
              "</div>"
            ],
            "text/plain": [
              "Product      A1      A2      A3\n",
              "Jan      4500.0  4500.0  4400.0\n",
              "Feb       500.0  5400.0  4400.0\n",
              "Mar      2000.0  5300.0  6050.0\n",
              "Apr      5300.0  2700.0  4400.0"
            ]
          },
          "metadata": {
            "tags": []
          },
          "execution_count": 237
        }
      ]
    },
    {
      "cell_type": "markdown",
      "metadata": {
        "id": "_S5voVHAFudO",
        "colab_type": "text"
      },
      "source": [
        "### Conclusion\n",
        "\n",
        "We have shown how to model a firm's production line in this model. We came up with an increasingly detailed model and shown how a mathematical programming model can be solved to find optimal plannings under various constraints\n",
        "\n",
        "\n",
        "\n",
        "### Credits\n",
        "\n",
        "This work is an extension of a problem statement by Leo Liberti (Ecole Polytechnique)"
      ]
    }
  ]
}