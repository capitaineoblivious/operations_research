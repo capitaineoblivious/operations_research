{
  "nbformat": 4,
  "nbformat_minor": 0,
  "metadata": {
    "colab": {
      "name": "transportation.ipynb",
      "provenance": [],
      "collapsed_sections": [],
      "toc_visible": true,
      "include_colab_link": true
    },
    "kernelspec": {
      "name": "python3",
      "display_name": "Python 3"
    }
  },
  "cells": [
    {
      "cell_type": "markdown",
      "metadata": {
        "id": "view-in-github",
        "colab_type": "text"
      },
      "source": [
        "<a href=\"https://colab.research.google.com/github/ymiftah/operations_research/blob/master/transportation.ipynb\" target=\"_parent\"><img src=\"https://colab.research.google.com/assets/colab-badge.svg\" alt=\"Open In Colab\"/></a>"
      ]
    },
    {
      "cell_type": "code",
      "metadata": {
        "id": "qNnG66umvsYP",
        "colab_type": "code",
        "colab": {}
      },
      "source": [
        "!pip install -q pyomo\n",
        "!apt-get install -qq coinor-cbc"
      ],
      "execution_count": 0,
      "outputs": []
    },
    {
      "cell_type": "code",
      "metadata": {
        "id": "YzrGGJd9LIhT",
        "colab_type": "code",
        "colab": {}
      },
      "source": [
        "import numpy as np\n",
        "import pandas as pd\n",
        "import matplotlib.pyplot as plt\n",
        "from pprint import pprint"
      ],
      "execution_count": 0,
      "outputs": []
    },
    {
      "cell_type": "markdown",
      "metadata": {
        "id": "u66FOAh2AgKk",
        "colab_type": "text"
      },
      "source": [
        "# A Transportation Problem"
      ]
    },
    {
      "cell_type": "markdown",
      "metadata": {
        "id": "HBoiWDsEwTJy",
        "colab_type": "text"
      },
      "source": [
        "## Problem Statement\n",
        "An Italian transportation ﬁrm should carry some empty containers from its 6 stores (in Verona, Perugia, Rome, Pescara, Taranto and Lamezia) to the main national ports (Genoa, Venice, Ancona, Naples, Bari). The container stocks at the stores are the following:\n",
        "\n",
        "|         | Empty Containers   |\n",
        "|---------|-------------------:|\n",
        "|Verona   | 10|\n",
        "|Perugia  | 12|\n",
        "|Rome     | 20|\n",
        "|Pescara  | 24|\n",
        "|Taranto  | 18|\n",
        "|Lamezia  | 40|\n",
        "\n",
        "The demands at the ports are as follows:\n",
        "\n",
        "|         | Container demand   |\n",
        "|---------|-------------------:|\n",
        "|Genoa   | 20|\n",
        "|Venice  | 15|\n",
        "|Ancona     | 25|\n",
        "|Naples  | 33|\n",
        "|Bari  | 21|\n",
        "\n",
        "Transportation is carried out by a ﬂeet of lorries. The transportation cost for each container is proportional to the distance travelled by the lorry, and amounts to 30 euro / km. Every lorry can carry at most 2 containers. Distances are as follows:\n",
        "\n",
        "|[km]    | Genoa | Venice | Ancona | Naples | Bari\n",
        "|----|----:|----:|----:|----:|----:|\n",
        "|Verona| 290|115|355|715|810|\n",
        "|Perugia | 380|340|165|380|610|\n",
        "|Rome|505|530|285|220|450|\n",
        "|Pescara|655|450|155|240|315|\n",
        "|Taranto|1010|840|550|305|95|\n",
        "|Lamezia|1072|1097|747|372|333|\n",
        "\n",
        "**Find the policy minimizing transportation cost total revenue**"
      ]
    },
    {
      "cell_type": "code",
      "metadata": {
        "id": "nnUNbf8dv6gL",
        "colab_type": "code",
        "colab": {}
      },
      "source": [
        "from pyomo.environ import *\n",
        "\n",
        "# create a model\n",
        "model = ConcreteModel()\n",
        "\n",
        "stores  =   ['Verona', 'Perugia', 'Rome', 'Pescara', 'Taranto', 'Lamezia']\n",
        "empty       = dict(zip(stores, [10, 12, 20, 24, 18, 40]))\n",
        "\n",
        "ports  = ['Genoa', 'Venice', 'Ancona', 'Naples', 'Bari']\n",
        "demand = dict(zip(ports, [20, 15, 25, 33, 21]))\n",
        "\n",
        "array = [[290, 115, 355, 715, 810],\n",
        "         [380, 340, 165, 380, 610],\n",
        "         [505, 530, 285, 220, 450],\n",
        "         [655, 450, 155, 240, 315],\n",
        "         [1010, 840, 550, 305, 95],\n",
        "         [1072, 1097, 747, 372, 333]]\n",
        "distance = {(stores[i], ports[j]): array[i][j]\n",
        "            for i in range(len(stores))\n",
        "            for j in range(len(ports))}\n",
        "\n",
        "cost = 30 # Eur/km\n",
        "\n",
        "# Sets\n",
        "model.stores = Set(initialize=stores)\n",
        "model.ports = Set(initialize=ports)\n",
        "\n",
        "# declare decision variables\n",
        "model.lorries = Var(model.stores, model.ports, domain=NonNegativeIntegers)\n",
        "model.ship = Var(model.stores, model.ports, domain=NonNegativeIntegers)\n",
        "\n",
        "# declare objective\n",
        "model.cost = Objective(expr = cost * sum(model.lorries[i,p] * distance[i,p]\n",
        "                                    for i in model.stores\n",
        "                                    for p in ports),\n",
        "                         sense=minimize)\n",
        "\n",
        "#declare constraints\n",
        "def cstr_demand(m, p):\n",
        "    return sum(m.ship[i, p] for i in m.stores) == demand[p]\n",
        "\n",
        "def cstr_stock(m, i):\n",
        "    return sum(m.ship[i, p] for p in m.ports) <= empty[i]\n",
        "\n",
        "def cstr_lorry(m, i, p):\n",
        "    return m.lorries[i, p] >= m.ship[i,p] / 2\n",
        "\n",
        "\n",
        "model.demand = Constraint(model.ports, rule=cstr_demand)\n",
        "model.stock = Constraint(model.stores, rule=cstr_stock)\n",
        "model.capacity = Constraint(model.stores, model.ports, rule=cstr_lorry)"
      ],
      "execution_count": 0,
      "outputs": []
    },
    {
      "cell_type": "code",
      "metadata": {
        "id": "qvexmvY3wHvO",
        "colab_type": "code",
        "outputId": "99043a41-a7cc-40e5-b16e-c17a7a680469",
        "colab": {
          "base_uri": "https://localhost:8080/",
          "height": 33
        }
      },
      "source": [
        "# Solve the problem\n",
        "SolverFactory('cbc', executable='/usr/bin/cbc').solve(model)\n",
        "\n",
        "print('Cost = ', model.cost())"
      ],
      "execution_count": 48,
      "outputs": [
        {
          "output_type": "stream",
          "text": [
            "Cost =  468510.0\n"
          ],
          "name": "stdout"
        }
      ]
    },
    {
      "cell_type": "markdown",
      "metadata": {
        "id": "WTHVMu61AQfd",
        "colab_type": "text"
      },
      "source": [
        "## Results\n",
        "\n",
        "Let us visualize in a table the shipping policy obtained"
      ]
    },
    {
      "cell_type": "code",
      "metadata": {
        "id": "5IA3gcrO9P2J",
        "colab_type": "code",
        "colab": {
          "base_uri": "https://localhost:8080/",
          "height": 134
        },
        "outputId": "ff640ce5-e89b-4246-c983-2138dfec2e50"
      },
      "source": [
        "shipping = model.ship.extract_values()\n",
        "\n",
        "df = pd.DataFrame(\n",
        "    [[shipping[i,j]for j in ports] for i in stores],\n",
        "    columns=ports,\n",
        "    index=stores,\n",
        "    dtype='int'\n",
        ")\n",
        "print(df)"
      ],
      "execution_count": 49,
      "outputs": [
        {
          "output_type": "stream",
          "text": [
            "         Genoa  Venice  Ancona  Naples  Bari\n",
            "Verona       0      10       0       0     0\n",
            "Perugia      6       5       1       0     0\n",
            "Rome        14       0       0       6     0\n",
            "Pescara      0       0      24       0     0\n",
            "Taranto      0       0       0       1    17\n",
            "Lamezia      0       0       0      26     4\n"
          ],
          "name": "stdout"
        }
      ]
    },
    {
      "cell_type": "code",
      "metadata": {
        "id": "uuZ_mT92-mWO",
        "colab_type": "code",
        "colab": {
          "base_uri": "https://localhost:8080/",
          "height": 134
        },
        "outputId": "36e9f1c8-4450-4201-ffad-93782783c2d6"
      },
      "source": [
        "print('Containers shipped to each port:')\n",
        "print(df.sum(axis=0))"
      ],
      "execution_count": 50,
      "outputs": [
        {
          "output_type": "stream",
          "text": [
            "Containers shipped to each port:\n",
            "Genoa     20\n",
            "Venice    15\n",
            "Ancona    25\n",
            "Naples    33\n",
            "Bari      21\n",
            "dtype: int64\n"
          ],
          "name": "stdout"
        }
      ]
    },
    {
      "cell_type": "markdown",
      "metadata": {
        "id": "zgV1w3IZ_8QJ",
        "colab_type": "text"
      },
      "source": [
        "As we see above the demand is correctly served"
      ]
    },
    {
      "cell_type": "code",
      "metadata": {
        "id": "5d-aw8vN_j6Z",
        "colab_type": "code",
        "colab": {
          "base_uri": "https://localhost:8080/",
          "height": 150
        },
        "outputId": "98fb23b0-e3dd-46b6-88d2-7800e8fe452b"
      },
      "source": [
        "print('Containers shipped from:')\n",
        "print(df.sum(axis=1))"
      ],
      "execution_count": 51,
      "outputs": [
        {
          "output_type": "stream",
          "text": [
            "Containers shipped from:\n",
            "Verona     10\n",
            "Perugia    12\n",
            "Rome       20\n",
            "Pescara    24\n",
            "Taranto    18\n",
            "Lamezia    30\n",
            "dtype: int64\n"
          ],
          "name": "stdout"
        }
      ]
    },
    {
      "cell_type": "markdown",
      "metadata": {
        "id": "iqd16iHBAySN",
        "colab_type": "text"
      },
      "source": [
        "And the policy is within the stocks at each store"
      ]
    },
    {
      "cell_type": "code",
      "metadata": {
        "id": "d2KFfF0pA971",
        "colab_type": "code",
        "colab": {}
      },
      "source": [
        ""
      ],
      "execution_count": 0,
      "outputs": []
    }
  ]
}